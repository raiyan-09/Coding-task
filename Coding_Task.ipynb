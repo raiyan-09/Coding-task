{
  "nbformat": 4,
  "nbformat_minor": 0,
  "metadata": {
    "colab": {
      "name": "Coding Task.ipynb",
      "provenance": [],
      "authorship_tag": "ABX9TyPXRYODmAPfnFERk95BjXau",
      "include_colab_link": true
    },
    "kernelspec": {
      "name": "python3",
      "display_name": "Python 3"
    },
    "language_info": {
      "name": "python"
    }
  },
  "cells": [
    {
      "cell_type": "markdown",
      "metadata": {
        "id": "view-in-github",
        "colab_type": "text"
      },
      "source": [
        "<a href=\"https://colab.research.google.com/github/raiyan-09/Coding-task/blob/main/Coding_Task.ipynb\" target=\"_parent\"><img src=\"https://colab.research.google.com/assets/colab-badge.svg\" alt=\"Open In Colab\"/></a>"
      ]
    },
    {
      "cell_type": "code",
      "metadata": {
        "colab": {
          "base_uri": "https://localhost:8080/"
        },
        "id": "feRxqcAC3fDC",
        "outputId": "e0647056-cb96-45f9-ceff-a498bd95c92b"
      },
      "source": [
        "# importing libraries\n",
        "import matplotlib.pyplot as plt\n",
        "import numpy as np\n",
        "import random\n",
        "\n",
        "# taking random input of x matrix\n",
        "input_data = np.random.randint(1, 30, size=(1, 2)) \n",
        "input_data = np.array(input_data)\n",
        "\n",
        "# taking random input of Weight matrix of hidden layer\n",
        "weight_data = np.random.uniform(1, 30, size=(4, 2))\n",
        "\n",
        "\n",
        "weights= {'node_0': np.array(weight_data[0]),\n",
        "          'node_1': np.array(weight_data[1]),\n",
        "          'node_2': np.array(weight_data[2]),\n",
        "          'node_3': np.array(weight_data[3]),\n",
        "          }\n",
        "\n",
        "# taking random input of output side Weight matrix         \n",
        "output_weights = np.random.uniform(1, 30, size=(1, 4))\n",
        "b1             = np.random.uniform(700, 1000, size=(1, 4)) \n",
        "# calculating z values of each node in hidden layer\n",
        "# node_0_value = ((input_data * weights['node_0']).sum()) + b1[0][0]\n",
        "# node_1_value = (((input_data * weights['node_1']).sum()) + b1[0][1]\n",
        "# node_2_value = ((input_data * weights['node_2']).sum()) + b1[0][2]\n",
        "# node_3_value = ((input_data * weights['node_3']).sum()) + b1[0][3]\n",
        "node_0_value = (input_data * weights['node_0']).sum() \n",
        "node_0_value = node_0_value + b1[0][0]\n",
        "node_1_value = (input_data * weights['node_1']).sum()\n",
        "node_1_value = node_1_value + b1[0][1]\n",
        "node_2_value = (input_data * weights['node_2']).sum() \n",
        "node_2_value = node_2_value + b1[0][2]\n",
        "node_3_value = (input_data * weights['node_3']).sum()\n",
        "node_3_value = node_3_value + b1[0][3]\n",
        "# np.maximum(0, Z)\n",
        "# calculating activation values in hidden layer \n",
        "ReLu_node_0_value = np.maximum(0, node_0_value)\n",
        "ReLu_node_1_value = np.maximum(0, node_1_value)\n",
        "ReLu_node_2_value = np.maximum(0, node_2_value)\n",
        "ReLu_node_3_value = np.maximum(0, node_3_value)\n",
        "\n",
        "hidden_layer_values = np.array([ReLu_node_0_value,ReLu_node_1_value,ReLu_node_2_value,ReLu_node_3_value])\n",
        "# sigmoid_hidden_layer_values = 1/(1+np.exp(-hidden_layer_values))\n",
        "\n",
        "output =  ( hidden_layer_values * output_weights ).sum()\n",
        "b2 = np.random.uniform(700,1000)\n",
        "output = output+ b2\n",
        "output\n",
        "sigmoid_output= 1/(1+np.exp(-output))\n",
        "sigmoid_output"
      ],
      "execution_count": 518,
      "outputs": [
        {
          "output_type": "execute_result",
          "data": {
            "text/plain": [
              "1.0"
            ]
          },
          "metadata": {
            "tags": []
          },
          "execution_count": 518
        }
      ]
    },
    {
      "cell_type": "code",
      "metadata": {
        "id": "WrDtJds56Xz8"
      },
      "source": [
        "# #if Y = 0 is real output\n",
        "# Y   = np.random.randint(0,1)\n",
        "\n",
        "# #def back_propagate(W1, b1, W2, b2, cache):\n",
        "   \n",
        "# # Retrieve also A1 and A2 from dictionary \"cache\"\n",
        "# X  = input_data\n",
        "# A1 = hidden_layer_values\n",
        "# A2 = sigmoid_output\n",
        "# W2 = output_weights\n",
        "  \n",
        "# # Backward propagation: calculate dW1, db1, dW2, db2. \n",
        "# dZ2 = A2 - Y\n",
        "# # m is total number of samples \n",
        "# m   =  np.random.randint(100,1000)\n",
        "# dW2 = (1 / m) * np.dot(dZ2, A1.T)\n",
        "# # db2 = (1 / m) * np.sum(dZ2, axis = 1, keepdims = True)\n",
        "\n",
        "\n",
        "\n",
        "# dZ1 = np.multiply(np.dot(W2.T, dZ2), 1 - np.power(A1, 2))\n",
        "\n",
        "# dZ1\n",
        "# X\n",
        "\n",
        "# dW1 = (1 / m) * np.dot(dZ1, X.T)\n",
        "# db1 = (1 / m) * np.sum(dZ1, axis = 1, keepdims = True)\n",
        "      \n",
        "# # Updating the parameters according to algorithm\n",
        "# W1 = W1 - learning_rate * dW1\n",
        "# b1 = b1 - learning_rate * db1\n",
        "# W2 = W2 - learning_rate * dW2\n",
        "# b2 = b2 - learning_rate * db2\n",
        "  \n",
        "# # return W1, W2, b1, b2"
      ],
      "execution_count": 519,
      "outputs": []
    },
    {
      "cell_type": "code",
      "metadata": {
        "colab": {
          "base_uri": "https://localhost:8080/"
        },
        "id": "q5ZVFKTH749f",
        "outputId": "794135f2-3fba-4fed-f1e7-31af70259615"
      },
      "source": [
        "Y   = np.random.randint(0,1)\n",
        "\n",
        "X  = input_data\n",
        "A1 = hidden_layer_values\n",
        "A2 = sigmoid_output\n",
        "W2 = output_weights\n",
        "\n",
        "print(Y)\n",
        "print(X)\n",
        "print(A1)\n",
        "print(A2)\n",
        "print(W2)\n",
        "print(A2)"
      ],
      "execution_count": 520,
      "outputs": [
        {
          "output_type": "stream",
          "text": [
            "0\n",
            "[[12 27]]\n",
            "[1578.2994632  1320.9461357  1472.11726852 1851.17021702]\n",
            "1.0\n",
            "[[16.10776564 12.65926988 20.40664736 20.47266542]]\n",
            "1.0\n"
          ],
          "name": "stdout"
        }
      ]
    },
    {
      "cell_type": "code",
      "metadata": {
        "colab": {
          "base_uri": "https://localhost:8080/"
        },
        "id": "z4hEj91WEI69",
        "outputId": "641a09fe-2bed-4bc9-def8-b723082d5794"
      },
      "source": [
        "dZ2 = A2 - Y\n",
        "print(A2)\n",
        "print(Y)\n",
        "print(dZ2)\n"
      ],
      "execution_count": 521,
      "outputs": [
        {
          "output_type": "stream",
          "text": [
            "1.0\n",
            "0\n",
            "1.0\n"
          ],
          "name": "stdout"
        }
      ]
    },
    {
      "cell_type": "code",
      "metadata": {
        "colab": {
          "base_uri": "https://localhost:8080/"
        },
        "id": "0CGb6ms2Etgd",
        "outputId": "582cc201-96ca-48b8-b1f6-da17a31d27f7"
      },
      "source": [
        "m   =  np.random.randint(100,1000)\n",
        "print(m)"
      ],
      "execution_count": 522,
      "outputs": [
        {
          "output_type": "stream",
          "text": [
            "509\n"
          ],
          "name": "stdout"
        }
      ]
    },
    {
      "cell_type": "code",
      "metadata": {
        "colab": {
          "base_uri": "https://localhost:8080/"
        },
        "id": "12TcVXgIEzVt",
        "outputId": "875732d7-7468-4985-f5bc-1120c26d9057"
      },
      "source": [
        "dW2 = (1 / m) * np.dot(dZ2, A1.T)\n",
        "print(dZ2)\n",
        "print(A1.T)\n",
        "print(dW2)"
      ],
      "execution_count": 523,
      "outputs": [
        {
          "output_type": "stream",
          "text": [
            "1.0\n",
            "[1578.2994632  1320.9461357  1472.11726852 1851.17021702]\n",
            "[3.1007848  2.59517905 2.89217538 3.63687665]\n"
          ],
          "name": "stdout"
        }
      ]
    },
    {
      "cell_type": "code",
      "metadata": {
        "colab": {
          "base_uri": "https://localhost:8080/"
        },
        "id": "IHEQXuHIFVsF",
        "outputId": "a1328c5b-c131-4206-d83e-dee098422a09"
      },
      "source": [
        "dZ2 = np.array([[dZ2]])\n",
        "# dZ2   = np.random.randint(1, 30, size=(1, 1))\n",
        "print(dZ2)\n",
        "db2 = (1 / m) * np.sum(dZ2, axis = 1, keepdims = True)\n",
        "print(db2)\n",
        "\n"
      ],
      "execution_count": 524,
      "outputs": [
        {
          "output_type": "stream",
          "text": [
            "[[1.]]\n",
            "[[0.00196464]]\n"
          ],
          "name": "stdout"
        }
      ]
    },
    {
      "cell_type": "code",
      "metadata": {
        "colab": {
          "base_uri": "https://localhost:8080/"
        },
        "id": "J4YonFKULtuW",
        "outputId": "cf0a53a4-3f75-46a2-f05f-650ad3be1010"
      },
      "source": [
        "print(W2)\n",
        "print(W2.T)"
      ],
      "execution_count": 525,
      "outputs": [
        {
          "output_type": "stream",
          "text": [
            "[[16.10776564 12.65926988 20.40664736 20.47266542]]\n",
            "[[16.10776564]\n",
            " [12.65926988]\n",
            " [20.40664736]\n",
            " [20.47266542]]\n"
          ],
          "name": "stdout"
        }
      ]
    },
    {
      "cell_type": "code",
      "metadata": {
        "colab": {
          "base_uri": "https://localhost:8080/"
        },
        "id": "uexipCXtL8pf",
        "outputId": "35b172c3-4f56-40e2-e9ff-7ada91aea226"
      },
      "source": [
        "print(dZ2)\n"
      ],
      "execution_count": 526,
      "outputs": [
        {
          "output_type": "stream",
          "text": [
            "[[1.]]\n"
          ],
          "name": "stdout"
        }
      ]
    },
    {
      "cell_type": "code",
      "metadata": {
        "colab": {
          "base_uri": "https://localhost:8080/"
        },
        "id": "aRZjBlAmMGZf",
        "outputId": "e87f6fc2-f564-436e-995c-55dcbfb5e0c5"
      },
      "source": [
        "print(np.dot(W2.T, dZ2))"
      ],
      "execution_count": 527,
      "outputs": [
        {
          "output_type": "stream",
          "text": [
            "[[16.10776564]\n",
            " [12.65926988]\n",
            " [20.40664736]\n",
            " [20.47266542]]\n"
          ],
          "name": "stdout"
        }
      ]
    },
    {
      "cell_type": "code",
      "metadata": {
        "colab": {
          "base_uri": "https://localhost:8080/"
        },
        "id": "KEGLrjvJHOXt",
        "outputId": "976e0539-7d02-48cc-bded-aa448c6833b0"
      },
      "source": [
        "# dZ1 = np.multiply(np.dot(W2.T, dZ2), 1 - np.power(A1, 2))\n",
        "dZ1 = np.multiply(np.dot(W2.T, dZ2), A1-np.power(A1, 2))\n",
        "# print(np.dot(W2.T, dZ2))\n",
        "# print(A1)\n",
        "# print(np.power(A1, 2))\n",
        "print(dZ1)"
      ],
      "execution_count": 528,
      "outputs": [
        {
          "output_type": "stream",
          "text": [
            "[[-40099491.61483076 -28085141.73440098 -34883897.59468361\n",
            "  -55168775.20810934]\n",
            " [-31514630.73651599 -22072421.25271758 -27415638.13094073\n",
            "  -43357746.16719569]\n",
            " [-50801346.54746459 -35580576.22746214 -44193801.4490528\n",
            "  -69892359.10686156]\n",
            " [-50965695.26522105 -35695683.84718942 -44336773.93097608\n",
            "  -70118469.64094858]]\n"
          ],
          "name": "stdout"
        }
      ]
    },
    {
      "cell_type": "code",
      "metadata": {
        "colab": {
          "base_uri": "https://localhost:8080/"
        },
        "id": "OT13sdiCHncW",
        "outputId": "caae1de0-e7ed-4c66-8fb1-5f2e76901ce3"
      },
      "source": [
        "db1 = (1 / m) * np.sum(dZ1, axis = 1, keepdims = True)\n",
        "print(db1)"
      ],
      "execution_count": 529,
      "outputs": [
        {
          "output_type": "stream",
          "text": [
            "[[-310878.79401184]\n",
            " [-244323.05753904]\n",
            " [-393846.92206452]\n",
            " [-395121.06617748]]\n"
          ],
          "name": "stdout"
        }
      ]
    },
    {
      "cell_type": "code",
      "metadata": {
        "id": "Yt6Rcor8K393"
      },
      "source": [
        "# dW1 = (1 / m) * np.dot(dZ1, X.T)\n"
      ],
      "execution_count": 530,
      "outputs": []
    },
    {
      "cell_type": "code",
      "metadata": {
        "id": "AYBfOkADMrg2"
      },
      "source": [
        "learning_rate = 0.01\n",
        "# Updating the parameters according to algorithm\n",
        "# W1 = W1 - learning_rate * dW1\n",
        "b1 = b1 - learning_rate * db1\n",
        "W2 = W2 - learning_rate * dW2\n",
        "b2 = b2 - learning_rate * db2    "
      ],
      "execution_count": 531,
      "outputs": []
    },
    {
      "cell_type": "code",
      "metadata": {
        "id": "-d-6nQABO8e_"
      },
      "source": [
        ""
      ],
      "execution_count": 532,
      "outputs": []
    }
  ]
}