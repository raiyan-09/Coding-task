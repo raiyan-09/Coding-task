{
  "nbformat": 4,
  "nbformat_minor": 0,
  "metadata": {
    "colab": {
      "name": "Coding Task.ipynb",
      "provenance": [],
      "authorship_tag": "ABX9TyMtLYKpxxgtefOShV9XLgt/",
      "include_colab_link": true
    },
    "kernelspec": {
      "name": "python3",
      "display_name": "Python 3"
    },
    "language_info": {
      "name": "python"
    }
  },
  "cells": [
    {
      "cell_type": "markdown",
      "metadata": {
        "id": "view-in-github",
        "colab_type": "text"
      },
      "source": [
        "<a href=\"https://colab.research.google.com/github/raiyan-09/Coding-task/blob/main/Coding_Task.ipynb\" target=\"_parent\"><img src=\"https://colab.research.google.com/assets/colab-badge.svg\" alt=\"Open In Colab\"/></a>"
      ]
    },
    {
      "cell_type": "code",
      "metadata": {
        "colab": {
          "base_uri": "https://localhost:8080/"
        },
        "id": "feRxqcAC3fDC",
        "outputId": "1179e8d8-7f25-4f2b-d626-598e61d77674"
      },
      "source": [
        "# importing libraries\n",
        "import matplotlib.pyplot as plt\n",
        "import numpy as np\n",
        "import random\n",
        "\n",
        "# feed-forward network\n",
        "# taking random input of x matrix\n",
        "input_data = np.random.randint(1, 30, size=(1, 2)) \n",
        "input_data = np.array(input_data)\n",
        "\n",
        "# taking random input of Weight matrix of hidden layer\n",
        "weight_data = np.random.uniform(1, 30, size=(4, 2))\n",
        "\n",
        "\n",
        "weights= {'node_0': np.array(weight_data[0]),\n",
        "          'node_1': np.array(weight_data[1]),\n",
        "          'node_2': np.array(weight_data[2]),\n",
        "          'node_3': np.array(weight_data[3]),\n",
        "          }\n",
        "\n",
        "# taking random input of output side Weight matrix         \n",
        "output_weights = np.random.uniform(1, 30, size=(1, 4))\n",
        "b1             = np.random.uniform(700, 1000, size=(1, 4)) \n",
        "# calculating z values of each node in hidden layer\n",
        "# node_0_value = ((input_data * weights['node_0']).sum()) + b1[0][0]\n",
        "# node_1_value = (((input_data * weights['node_1']).sum()) + b1[0][1]\n",
        "# node_2_value = ((input_data * weights['node_2']).sum()) + b1[0][2]\n",
        "# node_3_value = ((input_data * weights['node_3']).sum()) + b1[0][3]\n",
        "node_0_value = (input_data * weights['node_0']).sum() \n",
        "node_0_value = node_0_value + b1[0][0]\n",
        "node_1_value = (input_data * weights['node_1']).sum()\n",
        "node_1_value = node_1_value + b1[0][1]\n",
        "node_2_value = (input_data * weights['node_2']).sum() \n",
        "node_2_value = node_2_value + b1[0][2]\n",
        "node_3_value = (input_data * weights['node_3']).sum()\n",
        "node_3_value = node_3_value + b1[0][3]\n",
        "# np.maximum(0, Z)\n",
        "# calculating activation values in hidden layer \n",
        "ReLu_node_0_value = np.maximum(0, node_0_value)\n",
        "ReLu_node_1_value = np.maximum(0, node_1_value)\n",
        "ReLu_node_2_value = np.maximum(0, node_2_value)\n",
        "ReLu_node_3_value = np.maximum(0, node_3_value)\n",
        "\n",
        "hidden_layer_values = np.array([ReLu_node_0_value,ReLu_node_1_value,ReLu_node_2_value,ReLu_node_3_value])\n",
        "# sigmoid_hidden_layer_values = 1/(1+np.exp(-hidden_layer_values))\n",
        "\n",
        "output =  ( hidden_layer_values * output_weights ).sum()\n",
        "b2 = np.random.uniform(700,1000)\n",
        "output = output+ b2\n",
        "output\n",
        "sigmoid_output= 1/(1+np.exp(-output))\n",
        "sigmoid_output"
      ],
      "execution_count": 15,
      "outputs": [
        {
          "output_type": "execute_result",
          "data": {
            "text/plain": [
              "1.0"
            ]
          },
          "metadata": {
            "tags": []
          },
          "execution_count": 15
        }
      ]
    },
    {
      "cell_type": "code",
      "metadata": {
        "colab": {
          "base_uri": "https://localhost:8080/"
        },
        "id": "q5ZVFKTH749f",
        "outputId": "b2dcc86e-676a-41da-bb87-38685528bb00"
      },
      "source": [
        "# Backpropagation\n",
        "\n",
        "Y   = np.random.randint(0,1)\n",
        "X  = input_data\n",
        "A1 = hidden_layer_values\n",
        "A2 = sigmoid_output\n",
        "W2 = output_weights\n",
        "\n",
        "print(Y)\n",
        "print(X)\n",
        "print(A1)\n",
        "print(A2)\n",
        "print(W2)\n",
        "print(A2)"
      ],
      "execution_count": 16,
      "outputs": [
        {
          "output_type": "stream",
          "text": [
            "0\n",
            "[[22 20]]\n",
            "[1444.23731828 1661.22459496 1309.45946023 1663.77123186]\n",
            "1.0\n",
            "[[29.33388006  1.42931353  7.86400929 24.04648662]]\n",
            "1.0\n"
          ],
          "name": "stdout"
        }
      ]
    },
    {
      "cell_type": "code",
      "metadata": {
        "colab": {
          "base_uri": "https://localhost:8080/"
        },
        "id": "z4hEj91WEI69",
        "outputId": "f54c2c39-5732-4647-c67b-2b11aed7bf29"
      },
      "source": [
        "dZ2 = A2 - Y\n",
        "print(A2)\n",
        "print(Y)\n",
        "print(dZ2)\n"
      ],
      "execution_count": 17,
      "outputs": [
        {
          "output_type": "stream",
          "text": [
            "1.0\n",
            "0\n",
            "1.0\n"
          ],
          "name": "stdout"
        }
      ]
    },
    {
      "cell_type": "code",
      "metadata": {
        "colab": {
          "base_uri": "https://localhost:8080/"
        },
        "id": "0CGb6ms2Etgd",
        "outputId": "9021a13d-24c5-4e04-8db0-183fae7ee7c1"
      },
      "source": [
        "m   =  np.random.randint(100,1000)\n",
        "print(m)"
      ],
      "execution_count": 18,
      "outputs": [
        {
          "output_type": "stream",
          "text": [
            "515\n"
          ],
          "name": "stdout"
        }
      ]
    },
    {
      "cell_type": "code",
      "metadata": {
        "colab": {
          "base_uri": "https://localhost:8080/"
        },
        "id": "12TcVXgIEzVt",
        "outputId": "f91d176a-2fb4-494b-ec42-a4d63db81296"
      },
      "source": [
        "dW2 = (1 / m) * np.dot(dZ2, A1.T)\n",
        "print(dZ2)\n",
        "print(A1.T)\n",
        "print(dW2)"
      ],
      "execution_count": 19,
      "outputs": [
        {
          "output_type": "stream",
          "text": [
            "1.0\n",
            "[1444.23731828 1661.22459496 1309.45946023 1663.77123186]\n",
            "[2.80434431 3.22567883 2.54263973 3.23062375]\n"
          ],
          "name": "stdout"
        }
      ]
    },
    {
      "cell_type": "code",
      "metadata": {
        "colab": {
          "base_uri": "https://localhost:8080/"
        },
        "id": "IHEQXuHIFVsF",
        "outputId": "273b30e3-0def-454d-c968-4f6522947d20"
      },
      "source": [
        "dZ2 = np.array([[dZ2]])\n",
        "# dZ2   = np.random.randint(1, 30, size=(1, 1))\n",
        "print(dZ2)\n",
        "db2 = (1 / m) * np.sum(dZ2, axis = 1, keepdims = True)\n",
        "print(db2)\n",
        "\n"
      ],
      "execution_count": 20,
      "outputs": [
        {
          "output_type": "stream",
          "text": [
            "[[1.]]\n",
            "[[0.00194175]]\n"
          ],
          "name": "stdout"
        }
      ]
    },
    {
      "cell_type": "code",
      "metadata": {
        "colab": {
          "base_uri": "https://localhost:8080/"
        },
        "id": "J4YonFKULtuW",
        "outputId": "623269d9-c3ca-48cf-a2b7-bff81e1a7e33"
      },
      "source": [
        "print(W2)\n",
        "print(W2.T)"
      ],
      "execution_count": 21,
      "outputs": [
        {
          "output_type": "stream",
          "text": [
            "[[29.33388006  1.42931353  7.86400929 24.04648662]]\n",
            "[[29.33388006]\n",
            " [ 1.42931353]\n",
            " [ 7.86400929]\n",
            " [24.04648662]]\n"
          ],
          "name": "stdout"
        }
      ]
    },
    {
      "cell_type": "code",
      "metadata": {
        "colab": {
          "base_uri": "https://localhost:8080/"
        },
        "id": "uexipCXtL8pf",
        "outputId": "06f03028-2a41-412e-d71c-3dc4e1a513af"
      },
      "source": [
        "print(dZ2)\n"
      ],
      "execution_count": 22,
      "outputs": [
        {
          "output_type": "stream",
          "text": [
            "[[1.]]\n"
          ],
          "name": "stdout"
        }
      ]
    },
    {
      "cell_type": "code",
      "metadata": {
        "colab": {
          "base_uri": "https://localhost:8080/"
        },
        "id": "aRZjBlAmMGZf",
        "outputId": "4a3afb64-7268-4870-80ad-5b994d47d2b4"
      },
      "source": [
        "print(np.dot(W2.T, dZ2))"
      ],
      "execution_count": 23,
      "outputs": [
        {
          "output_type": "stream",
          "text": [
            "[[29.33388006]\n",
            " [ 1.42931353]\n",
            " [ 7.86400929]\n",
            " [24.04648662]]\n"
          ],
          "name": "stdout"
        }
      ]
    },
    {
      "cell_type": "code",
      "metadata": {
        "colab": {
          "base_uri": "https://localhost:8080/"
        },
        "id": "KEGLrjvJHOXt",
        "outputId": "2673f555-843f-410e-f2f0-2d96294e51dd"
      },
      "source": [
        "# dZ1 = np.multiply(np.dot(W2.T, dZ2), 1 - np.power(A1, 2))\n",
        "dZ1 = np.multiply(np.dot(W2.T, dZ2), A1-np.power(A1, 2))\n",
        "# print(np.dot(W2.T, dZ2))\n",
        "# print(A1)\n",
        "# print(np.power(A1, 2))\n",
        "print(dZ1)"
      ],
      "execution_count": 24,
      "outputs": [
        {
          "output_type": "stream",
          "text": [
            "[[-61142870.6239375  -80903015.1778552  -50259925.56582295\n",
            "  -81151326.77846046]\n",
            " [ -2979228.51594881  -3942055.17968832  -2448949.51655317\n",
            "   -3954154.33358501]\n",
            " [-16391561.6194523  -21688984.2585853  -13473993.91775922\n",
            "  -21755553.17922333]\n",
            " [-50121948.31289808 -66320352.70379541 -41200639.84097669\n",
            "  -66523906.46376816]]\n"
          ],
          "name": "stdout"
        }
      ]
    },
    {
      "cell_type": "code",
      "metadata": {
        "colab": {
          "base_uri": "https://localhost:8080/"
        },
        "id": "OT13sdiCHncW",
        "outputId": "63beef40-833b-4450-817b-6346334951a0"
      },
      "source": [
        "db1 = (1 / m) * np.sum(dZ1, axis = 1, keepdims = True)\n",
        "print(db1)"
      ],
      "execution_count": 25,
      "outputs": [
        {
          "output_type": "stream",
          "text": [
            "[[-530984.73426423]\n",
            " [ -25872.59717626]\n",
            " [-142349.69509713]\n",
            " [-435275.43169211]]\n"
          ],
          "name": "stdout"
        }
      ]
    },
    {
      "cell_type": "code",
      "metadata": {
        "id": "Yt6Rcor8K393"
      },
      "source": [
        "# dW1 = (1 / m) * np.dot(dZ1, X.T) \n",
        "#error is showing as dz1 is (4*4) size matrix and X.T is (2*1 size matrix)"
      ],
      "execution_count": 26,
      "outputs": []
    },
    {
      "cell_type": "code",
      "metadata": {
        "id": "AYBfOkADMrg2"
      },
      "source": [
        "learning_rate = 0.01\n",
        "# Updating the parameters according to algorithm\n",
        "# W1 = W1 - learning_rate * dW1\n",
        "b1 = b1 - learning_rate * db1\n",
        "W2 = W2 - learning_rate * dW2\n",
        "b2 = b2 - learning_rate * db2    "
      ],
      "execution_count": 27,
      "outputs": []
    },
    {
      "cell_type": "code",
      "metadata": {
        "id": "-d-6nQABO8e_"
      },
      "source": [
        ""
      ],
      "execution_count": 27,
      "outputs": []
    }
  ]
}